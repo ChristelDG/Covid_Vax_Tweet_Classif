{
 "cells": [
  {
   "cell_type": "code",
   "execution_count": null,
   "metadata": {},
   "outputs": [],
   "source": [
    "import pandas as pd\n",
    "import numpy as np\n",
    "import gensim\n",
    "from tqdm import tqdm\n",
    "import re\n",
    "import os\n",
    "import emoji\n",
    "import swifter\n",
    "import pickle\n",
    "\n",
    "os.environ['NUMEXPR_MAX_THREADS'] = '45'"
   ]
  },
  {
   "cell_type": "markdown",
   "metadata": {},
   "source": [
    "____\n",
    "\n",
    "# Importations\n",
    "\n",
    "Concatenate the original tweets in a single dataframe, and then apply some small preprocessing."
   ]
  },
  {
   "cell_type": "code",
   "execution_count": null,
   "metadata": {},
   "outputs": [],
   "source": [
    "header = [\"id\",\"timestamp\",\"id_2\", \"nb_1\", \"nb_2\", \"lang\", \"text\"]\n",
    "\n",
    "df = pd.DataFrame(columns=header)\n",
    "for filename in tqdm(os.listdir(\"../pancealabCleanFR/\")):\n",
    "    df = pd.concat([df, pd.read_csv(open(\"../pancealabCleanFR/\"+filename, 'rU'), sep='\t', names=header, parse_dates=[\"timestamp\"])])"
   ]
  },
  {
   "cell_type": "code",
   "execution_count": null,
   "metadata": {},
   "outputs": [],
   "source": [
    "df = df.reset_index().drop(columns=[\"index\"])\n",
    "df.dropna(inplace=True)\n",
    "\n",
    "df['has_t'] = df['text'].swifter.apply(lambda x: (len(re.findall(\"\\t\",str(x)))>0))\n",
    "nb_has_t = len(df[df['has_t'] == True])"
   ]
  },
  {
   "cell_type": "code",
   "execution_count": null,
   "metadata": {},
   "outputs": [],
   "source": [
    "# Some tweets contain tabs that interfer with the csv separator. This cell corrects that.\n",
    "\n",
    "to_add = []\n",
    "for i in tqdm(range(nb_has_t)):\n",
    "    content = df[df['has_t'] == True].iloc[int(i)]['text'].split(\"\\n\")\n",
    "\n",
    "    df.at[df[df['has_t'] == True].index[int(i)], 'text'] = content[0]\n",
    "\n",
    "    for l in content[1:]:\n",
    "        elem = l.split(\"\\t\")+[None]\n",
    "        to_add.append(elem)\n",
    "        \n",
    "df = pd.concat([df, pd.DataFrame(to_add, columns=df.columns.values)])\n",
    "print(f\"{len(to_add)} tweets rajoutés\")"
   ]
  },
  {
   "cell_type": "code",
   "execution_count": null,
   "metadata": {},
   "outputs": [],
   "source": [
    "df = df.reset_index().drop(columns=[\"index\"])\n",
    "df[\"text\"] = df[\"text\"].swifter.apply(lambda x: x.replace(\"|\", \" \"))\n",
    "\n",
    "df[\"original_text\"] = df[\"text\"]\n",
    "df[\"timestamp\"]=df[\"timestamp\"].swifter.apply(pd.to_datetime)\n",
    "\n",
    "df['has_t'] = df['text'].swifter.apply(lambda x: (len(re.findall(\"\\t\",x))>0))\n",
    "\n",
    "df['text'] = df['text'].swifter.apply(lambda x: re.sub(r\"\\n\", ' ', str(x)))\n",
    "df['text'] = df['text'].swifter.apply(lambda x: re.sub(r\"&amp;#39;\", \"'\", str(x)))\n",
    "df['text'] = df['text'].swifter.apply(lambda x: re.sub(r\"&amp\", \"&\", str(x)))"
   ]
  },
  {
   "cell_type": "code",
   "execution_count": null,
   "metadata": {},
   "outputs": [],
   "source": [
    "df.dropna(subset=['timestamp'], inplace=True)\n",
    "df.id = df.id.apply(int)"
   ]
  },
  {
   "cell_type": "code",
   "execution_count": null,
   "metadata": {},
   "outputs": [],
   "source": [
    "df['text'] = df['text'].swifter.apply(lambda x: re.sub(r'https?://\\S+', '', str(x)))"
   ]
  },
  {
   "cell_type": "markdown",
   "metadata": {},
   "source": [
    "# Spelling Correction\n",
    "\n",
    "To delete a part of the noise in the tweets, the most common spelling errors are manually corrected. The pickle objects contain dictionaries linking the error to the correction."
   ]
  },
  {
   "cell_type": "code",
   "execution_count": null,
   "metadata": {},
   "outputs": [],
   "source": [
    "def transf_modifs(text):\n",
    "    text = str(text)\n",
    "    text = text.replace(\"<url>\", \"\")\n",
    "    text = text.replace(\"\\xa0\", \" \")\n",
    "    text = re.sub(r'[^\\w\\s@]',' ',text)\n",
    "    new_text = []\n",
    "    for word in text.lower().split(\" \"):\n",
    "        if word != '':\n",
    "            try:\n",
    "                new_text.append(modifs[word])\n",
    "            except:\n",
    "                new_text.append(word)\n",
    "    return \" \".join(new_text)\n",
    "\n",
    "def transf_modifs_vaccins(text):\n",
    "    text = str(text)\n",
    "    new_text = []\n",
    "    for word in text.lower().split(\" \"):\n",
    "        if word != '':\n",
    "            try:\n",
    "                new_text.append(modifs_vaccins[word])\n",
    "            except:\n",
    "                new_text.append(word)\n",
    "    return \" \".join(new_text)"
   ]
  },
  {
   "cell_type": "code",
   "execution_count": null,
   "metadata": {},
   "outputs": [],
   "source": [
    "modifs = pickle.load(open(\"modifs\", 'rb'))\n",
    "modifs_vaccins = pickle.load(open(\"modifs_vaccins\", 'rb'))"
   ]
  },
  {
   "cell_type": "code",
   "execution_count": null,
   "metadata": {},
   "outputs": [],
   "source": [
    "df[\"text\"] = df[\"text\"].swifter.apply(lambda x: transf_modifs(x))\n",
    "df[\"text\"] = df[\"text\"].swifter.apply(lambda x: transf_modifs_vaccins(x))"
   ]
  },
  {
   "cell_type": "markdown",
   "metadata": {},
   "source": [
    "# Save"
   ]
  },
  {
   "cell_type": "code",
   "execution_count": null,
   "metadata": {},
   "outputs": [],
   "source": [
    "df.drop(columns=[\"has_t\"]).to_csv('dataset_tweet.csv', sep=\"|\", header=header+['original_text'])"
   ]
  },
  {
   "cell_type": "code",
   "execution_count": null,
   "metadata": {},
   "outputs": [],
   "source": []
  }
 ],
 "metadata": {
  "kernelspec": {
   "display_name": "Python 3 (ipykernel)",
   "language": "python",
   "name": "python3"
  },
  "language_info": {
   "codemirror_mode": {
    "name": "ipython",
    "version": 3
   },
   "file_extension": ".py",
   "mimetype": "text/x-python",
   "name": "python",
   "nbconvert_exporter": "python",
   "pygments_lexer": "ipython3",
   "version": "3.7.13"
  }
 },
 "nbformat": 4,
 "nbformat_minor": 4
}

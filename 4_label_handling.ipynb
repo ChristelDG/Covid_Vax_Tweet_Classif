{
 "cells": [
  {
   "cell_type": "markdown",
   "metadata": {},
   "source": [
    "This notebook was useful to convert our annotations into train and test datasets."
   ]
  },
  {
   "cell_type": "code",
   "execution_count": null,
   "metadata": {},
   "outputs": [],
   "source": [
    "import pandas as pd\n",
    "import numpy as np\n",
    "import re\n",
    "import string\n",
    "\n",
    "import matplotlib.pyplot as plt\n",
    "import seaborn as sns\n",
    "\n",
    "from sklearn.model_selection import StratifiedKFold, StratifiedShuffleSplit\n",
    "from sklearn.metrics import precision_score, recall_score, f1_score\n",
    "\n",
    "import torch\n",
    "torch.cuda.set_device('cuda:0')"
   ]
  },
  {
   "cell_type": "code",
   "execution_count": null,
   "metadata": {},
   "outputs": [],
   "source": [
    "df_new = pd.read_csv(\"sentiment_dataset/dataset_vaccin.csv\", sep=\"|\", dtype={0: int}, parse_dates=[\"timestamp\"])\n",
    "\n",
    "df_new[\"positif\"] = [None]*len(df_new)\n",
    "df_new[\"negatif\"] = [None]*len(df_new)\n",
    "df_new[\"neutre\"] = [None]*len(df_new)"
   ]
  },
  {
   "cell_type": "code",
   "execution_count": null,
   "metadata": {},
   "outputs": [],
   "source": [
    "df_new.drop(columns=[\"positif\", \"negatif\", \"neutre\"], inplace=True)"
   ]
  },
  {
   "cell_type": "markdown",
   "metadata": {},
   "source": [
    "# Labels"
   ]
  },
  {
   "cell_type": "code",
   "execution_count": null,
   "metadata": {},
   "outputs": [],
   "source": [
    "df_cl = pd.read_csv(\"sentiment_dataset/classification.csv\", sep=\";\", engine=\"python\", encoding='latin-1')\n",
    "\n",
    "df_cl.drop(columns=[\"Unnamed: 0\"], inplace=True)\n",
    "df_cl.rename(columns={\"Unnamed: 0.1\": \"Unnamed: 0\"}, inplace=True)\n",
    "\n",
    "df_cl[\"target\"] = [None]*len(df_cl)\n",
    "\n",
    "df_cl[\"target\"].loc[df_cl[\"positif\"]==1.0] = 0\n",
    "df_cl[\"target\"].loc[df_cl[\"negatif\"]==1.0] = 1\n",
    "df_cl[\"target\"].loc[df_cl[\"neutre\"]==1.0] = 2"
   ]
  },
  {
   "cell_type": "markdown",
   "metadata": {},
   "source": [
    "# Merge"
   ]
  },
  {
   "cell_type": "code",
   "execution_count": null,
   "metadata": {},
   "outputs": [],
   "source": [
    "df = df_new.merge(df_cl[[\"Unnamed: 0\", \"target\"]], on=\"Unnamed: 0\", how=\"left\")"
   ]
  },
  {
   "cell_type": "code",
   "execution_count": null,
   "metadata": {},
   "outputs": [],
   "source": [
    "df.set_index(\"Unnamed: 0\", inplace=True, drop=True)\n",
    "print(\"Positifs: {0[0]}\\nNegatifs: {0[1]}\\nNeutres:  {0[2]}\\nAutres:   {1}\".format(df[\"target\"].value_counts(), df[\"target\"].isna().value_counts()[True]))"
   ]
  },
  {
   "cell_type": "markdown",
   "metadata": {},
   "source": [
    "## Target processing"
   ]
  },
  {
   "cell_type": "code",
   "execution_count": null,
   "metadata": {},
   "outputs": [],
   "source": [
    "unlabeled = df['target'].isna() == True\n",
    "\n",
    "df_train = df.loc[~unlabeled]\n",
    "df_test = df.loc[unlabeled]\n",
    "\n",
    "df_train['target'] = df_train['target'].apply(int)"
   ]
  },
  {
   "cell_type": "code",
   "execution_count": null,
   "metadata": {},
   "outputs": [],
   "source": [
    "header_train = list(df_train.columns)\n",
    "df_train.to_csv(\"sentiment_dataset/train_new.csv\", sep=\";\", header=header_train)\n",
    "header_train.remove(\"target\")\n",
    "df_test.drop(columns=[\"target\"]).to_csv(\"sentiment_dataset/test_new.csv\", sep=\";\", header=header_train)"
   ]
  },
  {
   "cell_type": "markdown",
   "metadata": {},
   "source": [
    "## Dataset focused on the vaccin keyword"
   ]
  },
  {
   "cell_type": "code",
   "execution_count": null,
   "metadata": {},
   "outputs": [],
   "source": [
    "import pandas as pd"
   ]
  },
  {
   "cell_type": "code",
   "execution_count": null,
   "metadata": {},
   "outputs": [],
   "source": [
    "origin = pd.read_csv(\"dataset_tweet.csv\", sep=\"|\", names=[\"id\",\"timestamp\",\"id_2\", \"nb_1\", \"nb_2\", \"lang\", \"text\"] )"
   ]
  },
  {
   "cell_type": "code",
   "execution_count": null,
   "metadata": {},
   "outputs": [],
   "source": [
    "idx_vaccin_origin = []\n",
    "found=0\n",
    "key = 'vaccin'\n",
    "for i in range(len(origin)):\n",
    "    if len(re.findall(key, str(origin['text'].iloc[i])))>0:\n",
    "        found += 1\n",
    "        idx_vaccin_origin.append(i)\n",
    "print(found)"
   ]
  },
  {
   "cell_type": "code",
   "execution_count": null,
   "metadata": {},
   "outputs": [],
   "source": [
    "origin_vaccin = origin.iloc[idx_vaccin_origin]"
   ]
  },
  {
   "cell_type": "code",
   "execution_count": null,
   "metadata": {},
   "outputs": [],
   "source": [
    "origin_vaccin.to_csv(\"data/03_primary/dataset_vaccin.csv\", header=['id', 'timestamp', 'id_2', 'nb_1', 'nb_2', 'lang', 'text'], sep=\"|\")"
   ]
  }
 ],
 "metadata": {
  "kernelspec": {
   "display_name": "Python 3 (ipykernel)",
   "language": "python",
   "name": "python3"
  },
  "language_info": {
   "codemirror_mode": {
    "name": "ipython",
    "version": 3
   },
   "file_extension": ".py",
   "mimetype": "text/x-python",
   "name": "python",
   "nbconvert_exporter": "python",
   "pygments_lexer": "ipython3",
   "version": "3.7.13"
  }
 },
 "nbformat": 4,
 "nbformat_minor": 4
}

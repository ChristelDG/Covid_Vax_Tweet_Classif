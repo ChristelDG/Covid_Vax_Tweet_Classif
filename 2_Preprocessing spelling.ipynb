{
 "cells": [
  {
   "cell_type": "markdown",
   "metadata": {},
   "source": [
    "This notebook aims at finding the most common spelling errors and annotate them. This step reduces the noise in the original dataset."
   ]
  },
  {
   "cell_type": "code",
   "execution_count": null,
   "metadata": {},
   "outputs": [],
   "source": [
    "import pandas as pd\n",
    "import re\n",
    "import os\n",
    "import swifter\n",
    "import numpy as np\n",
    "from collections import Counter, defaultdict\n",
    "from spellchecker import SpellChecker\n",
    "from tqdm import tqdm\n",
    "import pickle\n",
    "\n",
    "os.environ['NUMEXPR_MAX_THREADS'] = '45'"
   ]
  },
  {
   "cell_type": "code",
   "execution_count": null,
   "metadata": {},
   "outputs": [],
   "source": [
    "df = pd.read_csv('dataset_tweet.csv', sep=\"|\")\n",
    "texts = df[\"text\"]"
   ]
  },
  {
   "cell_type": "markdown",
   "metadata": {},
   "source": [
    "# Search unknown words"
   ]
  },
  {
   "cell_type": "code",
   "execution_count": null,
   "metadata": {},
   "outputs": [],
   "source": [
    "spell = SpellChecker(language=\"fr\")"
   ]
  },
  {
   "cell_type": "code",
   "execution_count": null,
   "metadata": {},
   "outputs": [],
   "source": [
    "all_unk = []\n",
    "\n",
    "for text in tqdm(texts):\n",
    "    text = str(text)\n",
    "    text = text.replace(\"<url>\", \"\")\n",
    "    text = text.replace(\"\\xa0\", \" \")\n",
    "    text = re.sub(r\"(?<=^|(?<=[^a-zA-Z0-9-_\\.]))@([A-Za-z]+[A-Za-z0-9_]+)\", '',str(text))\n",
    "    text = re.sub(r'[^\\w\\s]',' ',text)\n",
    "    unk = [x for x in spell.unknown(text.split(\" \")) if x!='']\n",
    "    if len(unk) > 0:\n",
    "        all_unk.extend(unk)"
   ]
  },
  {
   "cell_type": "code",
   "execution_count": null,
   "metadata": {
    "scrolled": true
   },
   "outputs": [],
   "source": [
    "most_common = Counter(all_unk).most_common()\n",
    "most_common_words=[x[0] for x in most_common[:3000]]\n",
    "all_unk = list(set(all_unk))\n",
    "pickle.dump(most_common_words, open(\"most_common_words\", 'wb'))"
   ]
  },
  {
   "cell_type": "markdown",
   "metadata": {},
   "source": [
    "# Spelling correction dictionnary\n",
    "\n",
    "The next cells are a quick tool to annotate the most common unknown words. Leaving the input box empty skips the word (for example, the word coronavirus exists but is unknown to SpellChecker)."
   ]
  },
  {
   "cell_type": "code",
   "execution_count": null,
   "metadata": {},
   "outputs": [],
   "source": [
    "from IPython.display import clear_output\n",
    "\n",
    "modifs = {}"
   ]
  },
  {
   "cell_type": "code",
   "execution_count": null,
   "metadata": {},
   "outputs": [],
   "source": [
    "for key in most_common_words:\n",
    "    clear_output()\n",
    "    print(key)\n",
    "    inp = input()\n",
    "    if inp != '':\n",
    "        modifs[key] = inp"
   ]
  },
  {
   "cell_type": "code",
   "execution_count": null,
   "metadata": {},
   "outputs": [],
   "source": [
    "pickle.dump(modifs, open(\"modifs\", 'wb'))"
   ]
  },
  {
   "cell_type": "code",
   "execution_count": null,
   "metadata": {},
   "outputs": [],
   "source": []
  }
 ],
 "metadata": {
  "kernelspec": {
   "display_name": "Python 3 (ipykernel)",
   "language": "python",
   "name": "python3"
  },
  "language_info": {
   "codemirror_mode": {
    "name": "ipython",
    "version": 3
   },
   "file_extension": ".py",
   "mimetype": "text/x-python",
   "name": "python",
   "nbconvert_exporter": "python",
   "pygments_lexer": "ipython3",
   "version": "3.7.13"
  }
 },
 "nbformat": 4,
 "nbformat_minor": 4
}

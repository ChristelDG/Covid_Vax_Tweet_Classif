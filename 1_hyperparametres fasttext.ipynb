{
 "cells": [
  {
   "cell_type": "markdown",
   "metadata": {},
   "source": [
    "This notebook is dedicated to the fine tuning of the fasttext model.\n",
    "\n",
    "We use here a previous work done by one of the authors : https://github.com/alexandredupuy-zini/dynamic-topic-modeling. Make sure to modify the parameters.yml file located at dynamic-topic-modeling/conf/base with the one given in this repository, and to modify them in order to fit your subject.\n",
    "\n",
    "This additional repository is not maintained, and therefore needs to be used with caution as it requires an old version of kedro. The kedro pipeline was originally built with Kedro 0.15.4."
   ]
  },
  {
   "cell_type": "code",
   "execution_count": null,
   "metadata": {},
   "outputs": [],
   "source": [
    "import os\n",
    "\n",
    "os.chdir('dynamic-topic-modeling/')\n",
    "\n",
    "os.environ['NUMEXPR_MAX_THREADS'] = '45'"
   ]
  },
  {
   "cell_type": "code",
   "execution_count": null,
   "metadata": {
    "scrolled": true
   },
   "outputs": [],
   "source": [
    "!python -m kedro run --pipeline grid_search_fasttext"
   ]
  },
  {
   "cell_type": "markdown",
   "metadata": {},
   "source": [
    "# fasttext grid_search exploration"
   ]
  },
  {
   "cell_type": "code",
   "execution_count": null,
   "metadata": {},
   "outputs": [],
   "source": [
    "import pandas as pd\n",
    "import pickle\n",
    "import matplotlib.pyplot as plt\n",
    "import numpy as np"
   ]
  },
  {
   "cell_type": "code",
   "execution_count": null,
   "metadata": {},
   "outputs": [],
   "source": [
    "di = pickle.load(open(\"data/04_features/grid_search_results.pkl\", \"rb\"))"
   ]
  },
  {
   "cell_type": "code",
   "execution_count": null,
   "metadata": {},
   "outputs": [],
   "source": [
    "pd.DataFrame.from_dict(di)"
   ]
  },
  {
   "cell_type": "markdown",
   "metadata": {},
   "source": [
    "## ws=7 sounds better"
   ]
  },
  {
   "cell_type": "code",
   "execution_count": null,
   "metadata": {},
   "outputs": [],
   "source": [
    "fig, ax = plt.subplots(nrows=1, ncols=3, sharey=True, figsize=(20,5))\n",
    "\n",
    "ax[0].plot(df.groupby('ws').mean()['ndgc'])\n",
    "ax[1].plot(df.groupby('epoch').mean()['ndgc'])\n",
    "ax[2].plot(df.groupby('minCount').mean()['ndgc'])\n",
    "\n",
    "ax[0].set_xlabel('window size')\n",
    "ax[1].set_xlabel('epochs')\n",
    "ax[2].set_xlabel('minimum count')\n",
    "\n",
    "plt.show()"
   ]
  },
  {
   "cell_type": "code",
   "execution_count": null,
   "metadata": {},
   "outputs": [],
   "source": [
    "plt.plot(df.groupby('ws').mean()['ndgc'])\n",
    "plt.show()"
   ]
  },
  {
   "cell_type": "markdown",
   "metadata": {},
   "source": [
    "## 10 ou 15 epoch are best"
   ]
  },
  {
   "cell_type": "code",
   "execution_count": null,
   "metadata": {},
   "outputs": [],
   "source": [
    "plt.plot(df.groupby('epoch').mean()['ndgc'])\n",
    "plt.show()"
   ]
  },
  {
   "cell_type": "markdown",
   "metadata": {},
   "source": [
    "## minCount has little influence, except fixing the vocabulary size"
   ]
  },
  {
   "cell_type": "code",
   "execution_count": null,
   "metadata": {},
   "outputs": [],
   "source": [
    "plt.plot(df.groupby('minCount').mean()['ndgc'])\n",
    "plt.show()"
   ]
  },
  {
   "cell_type": "markdown",
   "metadata": {},
   "source": [
    "# Variance\n",
    "\n",
    "minCount doesn't influence much the performances, the higher ws is the better for the `hit` ratio, and epochs positvely impact `ndgc`.\n",
    "\n",
    "Vocabulary is more relevant with a higher ws, and using more epoch makes the links between relevant words stronger."
   ]
  },
  {
   "cell_type": "code",
   "execution_count": null,
   "metadata": {},
   "outputs": [],
   "source": [
    "for col in ['ws', 'epoch', 'minCount']:\n",
    "    print(col)\n",
    "    for x in ['hit', 'ndgc']:\n",
    "        print(\"\\t{}\\t : {}\".format(x, np.var(df.groupby(col).mean()[x])))"
   ]
  },
  {
   "cell_type": "markdown",
   "metadata": {},
   "source": [
    "# Best hyperparameters selection"
   ]
  },
  {
   "cell_type": "code",
   "execution_count": null,
   "metadata": {},
   "outputs": [],
   "source": [
    "df[df['ws']==7][df['hit']>=0.958333]['ndgc'].argmax()"
   ]
  },
  {
   "cell_type": "code",
   "execution_count": null,
   "metadata": {},
   "outputs": [],
   "source": [
    "df.iloc[16]"
   ]
  },
  {
   "cell_type": "code",
   "execution_count": null,
   "metadata": {},
   "outputs": [],
   "source": [
    "df.iloc[df['hit'].argmax()]"
   ]
  },
  {
   "cell_type": "markdown",
   "metadata": {},
   "source": [
    "## Final Hyperparameters choice"
   ]
  },
  {
   "cell_type": "code",
   "execution_count": null,
   "metadata": {},
   "outputs": [],
   "source": [
    "df.iloc[df['ndgc'].argmax()]"
   ]
  },
  {
   "cell_type": "code",
   "execution_count": null,
   "metadata": {},
   "outputs": [],
   "source": [
    "df.iloc[df['hit'].argmax()]['cos_sim']"
   ]
  },
  {
   "cell_type": "code",
   "execution_count": null,
   "metadata": {},
   "outputs": [],
   "source": []
  }
 ],
 "metadata": {
  "kernelspec": {
   "display_name": "Python 3 (ipykernel)",
   "language": "python",
   "name": "python3"
  },
  "language_info": {
   "codemirror_mode": {
    "name": "ipython",
    "version": 3
   },
   "file_extension": ".py",
   "mimetype": "text/x-python",
   "name": "python",
   "nbconvert_exporter": "python",
   "pygments_lexer": "ipython3",
   "version": "3.7.13"
  }
 },
 "nbformat": 4,
 "nbformat_minor": 4
}
